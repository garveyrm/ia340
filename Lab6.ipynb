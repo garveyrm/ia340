{
 "cells": [
  {
   "cell_type": "markdown",
   "metadata": {},
   "source": [
    "# Extract Job Posts from Indeed"
   ]
  },
  {
   "cell_type": "markdown",
   "metadata": {},
   "source": [
    "Before extracting job posts from [Indeed](https://www.indeed.com/), make sure you have checked their [robots.txt](https://www.indeed.com/robots.txt) file. "
   ]
  },
  {
   "cell_type": "markdown",
   "metadata": {},
   "source": [
    "## Create a table in database"
   ]
  },
  {
   "cell_type": "code",
   "execution_count": 1,
   "metadata": {},
   "outputs": [
    {
     "name": "stderr",
     "output_type": "stream",
     "text": [
      "/home/ec2-user/anaconda3/envs/python3/lib/python3.6/site-packages/psycopg2/__init__.py:144: UserWarning: The psycopg2 wheel package will be renamed from release 2.8; in order to keep installing from binary please use \"pip install psycopg2-binary\" instead. For details see: <http://initd.org/psycopg/docs/install.html#binary-install-from-pypi>.\n",
      "  \"\"\")\n"
     ]
    }
   ],
   "source": [
    "import pandas\n",
    "import configparser\n",
    "import psycopg2"
   ]
  },
  {
   "cell_type": "markdown",
   "metadata": {},
   "source": [
    "Read the database connection info from the config.ini"
   ]
  },
  {
   "cell_type": "code",
   "execution_count": 2,
   "metadata": {},
   "outputs": [],
   "source": [
    "config = configparser.ConfigParser()\n",
    "config.read('config.ini')\n",
    "\n",
    "host = config['myaws']['host']\n",
    "db = config['myaws']['db']\n",
    "user = config['myaws']['user']\n",
    "pwd = config['myaws']['pwd']"
   ]
  },
  {
   "cell_type": "markdown",
   "metadata": {},
   "source": [
    "Establish a connection to the databas, and create a cursor."
   ]
  },
  {
   "cell_type": "code",
   "execution_count": 3,
   "metadata": {},
   "outputs": [],
   "source": [
    "conn = psycopg2.connect(host = host,\n",
    "                       user = user,\n",
    "                        password = pwd,\n",
    "                        dbname = db\n",
    "                       )\n",
    "cur = conn.cursor()"
   ]
  },
  {
   "cell_type": "markdown",
   "metadata": {},
   "source": [
    "Design the table in SQL"
   ]
  },
  {
   "cell_type": "code",
   "execution_count": 4,
   "metadata": {},
   "outputs": [],
   "source": [
    "# replace the schema and table name to your schema and table name\n",
    "table_sql = \"\"\"\n",
    "            CREATE TABLE IF NOT EXISTS gp25.indeed\n",
    "            (\n",
    "                id SERIAL,\n",
    "                job_title VARCHAR(200),\n",
    "                job_company VARCHAR(200),\n",
    "                job_loc VARCHAR(200),\n",
    "                job_salary VARCHAR(200),\n",
    "                job_summary TEXT,\n",
    "                PRIMARY KEY(id)\n",
    "            );\n",
    "\n",
    "            \"\"\""
   ]
  },
  {
   "cell_type": "markdown",
   "metadata": {},
   "source": [
    "create the table"
   ]
  },
  {
   "cell_type": "code",
   "execution_count": 5,
   "metadata": {},
   "outputs": [],
   "source": [
    "cur.execute(table_sql)\n",
    "conn.commit()"
   ]
  },
  {
   "cell_type": "markdown",
   "metadata": {},
   "source": [
    "## Request HTML\n",
    "\n",
    "[urllib.request](https://docs.python.org/3/library/urllib.request.html) makes simple HTTP requests to visit a web page and get the content via the Python standard library.\n",
    "Here we define the URL to search job pots about Intelligence analyst."
   ]
  },
  {
   "cell_type": "code",
   "execution_count": 6,
   "metadata": {},
   "outputs": [],
   "source": [
    "url = 'https://www.indeed.com/jobs?q=intelligence+analyst&start=2'"
   ]
  },
  {
   "cell_type": "code",
   "execution_count": 7,
   "metadata": {
    "scrolled": true
   },
   "outputs": [],
   "source": [
    "import urllib.request\n",
    "response = urllib.request.urlopen(url)\n",
    "html_data= response.read()\n",
    "#print(html_data.decode('utf-8'))"
   ]
  },
  {
   "cell_type": "markdown",
   "metadata": {},
   "source": [
    "# Parese HTML\n",
    "We can use the inspector tool in browsers to analyze webpages and use [beautifulsoup](https://www.crummy.com/software/BeautifulSoup/bs4/doc/) to extract webpage data.\n",
    "pip install the beautiful soup if needed. "
   ]
  },
  {
   "cell_type": "code",
   "execution_count": 8,
   "metadata": {},
   "outputs": [
    {
     "name": "stdout",
     "output_type": "stream",
     "text": [
      "Requirement already satisfied: beautifulsoup4 in /home/ec2-user/anaconda3/envs/python3/lib/python3.6/site-packages (4.8.2)\n",
      "Requirement already satisfied: soupsieve>=1.2 in /home/ec2-user/anaconda3/envs/python3/lib/python3.6/site-packages (from beautifulsoup4) (1.9.5)\n",
      "\u001b[33mWARNING: You are using pip version 20.0.2; however, version 20.2.3 is available.\n",
      "You should consider upgrading via the '/home/ec2-user/anaconda3/envs/python3/bin/python -m pip install --upgrade pip' command.\u001b[0m\n"
     ]
    }
   ],
   "source": [
    "!pip install beautifulsoup4"
   ]
  },
  {
   "cell_type": "code",
   "execution_count": 9,
   "metadata": {},
   "outputs": [],
   "source": [
    "from bs4 import BeautifulSoup\n",
    "soup = BeautifulSoup(html_data,'html.parser')\n",
    "#print (soup)"
   ]
  },
  {
   "cell_type": "markdown",
   "metadata": {},
   "source": [
    "Use the <code> tag.find_all(‘tag_name’, tage_attr = ‘possible_value’)</code> function to return a list of tags where the attribute equals the possible_value.\n",
    "<ul>Common attributes include:\n",
    "<li> id</li>\n",
    "<li> class<span style =\"color:red\">_</span></li>\n",
    "</ul>\n",
    "\n",
    "<ul>Common functions include:\n",
    "<li> tag.text: return the visible part of the tag</li>\n",
    "<li> tag.get(‘attribute’): return the value of the attribute of the tag</li>\n",
    "</ul>"
   ]
  },
  {
   "cell_type": "markdown",
   "metadata": {},
   "source": [
    "Since all the job posts are in the <code>div tag class = 'jobsearch-Sprep...'</code>, we need to find that div tag from the body tag."
   ]
  },
  {
   "cell_type": "code",
   "execution_count": 10,
   "metadata": {
    "scrolled": false
   },
   "outputs": [],
   "source": [
    "for table_resultsBody in soup.find_all('table', id = 'resultsBody'):\n",
    "    pass\n",
    "    #print(table_resultsBody)"
   ]
  },
  {
   "cell_type": "code",
   "execution_count": 11,
   "metadata": {
    "scrolled": true
   },
   "outputs": [],
   "source": [
    "for table_pageContent in table_resultsBody.find_all('table', id = 'pageContent'):\n",
    "    pass\n",
    "    #print(table_pageContent)"
   ]
  },
  {
   "cell_type": "code",
   "execution_count": 13,
   "metadata": {},
   "outputs": [],
   "source": [
    "for td_resultsCol in table_pageContent.find_all('td', id = 'resultsCol'):\n",
    "    pass\n",
    "    #print(td_resultsCol)"
   ]
  },
  {
   "cell_type": "markdown",
   "metadata": {},
   "source": [
    "## Save Data to Database\n",
    "Now we find the div tag contains the job posts. We need to identify the job title, company, ratings, reviews, salary, and summary. \n",
    "We can save those records to our table in the database."
   ]
  },
  {
   "cell_type": "code",
   "execution_count": 14,
   "metadata": {},
   "outputs": [],
   "source": [
    "#  identify the job title, company, ratings, reviews, salary, and summary\n",
    "for div_row in td_resultsCol.find_all('div', class_='jobsearch-SerpJobCard unifiedRow row result'):\n",
    "\n",
    "    # find job title\n",
    "    job_title = None\n",
    "    job_company  = None\n",
    "    job_rating = None\n",
    "    job_loc = None\n",
    "    job_salary = None\n",
    "    job_summary = None\n",
    "    for h2_title in div_row.find_all('h2', class_ = 'title'):\n",
    "       \n",
    "        job_title = h2_title.a.text.strip().replace(\"'\",\"_\")\n",
    "   \n",
    "    for div_dsc in div_row.find_all('div', class_ = 'sjcl'):\n",
    "        \n",
    "        #find company name\n",
    "        for span_company in div_dsc.find_all('span', class_ = 'company'):\n",
    "            job_company = span_company.text.strip().replace(\"'\",\"_\")\n",
    "        \n",
    "        # find location\n",
    "        for div_loc in div_dsc.find_all('div', class_ = 'location accessible-contrast-color-location'):\n",
    "            job_loc = div_loc.text.strip().replace(\"'\",\"_\")\n",
    "    \n",
    "    # find salary\n",
    "    for div_salary in div_row.find_all('div',class_ ='salarySnippet'):\n",
    "        job_salary = div_salary.text.strip().replace(\"'\",\"_\")\n",
    "    \n",
    "    #find summary\n",
    "    for div_summary in div_row.find_all('div', class_ = 'summary'):\n",
    "        job_summary = div_summary.text.strip().replace(\"'\",\"_\")\n",
    "        \n",
    "    # insert into database\n",
    "    \n",
    "    sql_insert = \"\"\"\n",
    "                insert into gp25.indeed(job_title,job_company,job_loc,job_salary,job_summary)\n",
    "                values('{}','{}','{}','{}','{}')            \n",
    "                \"\"\".format(job_title,job_company,job_loc,job_salary,job_summary)\n",
    "\n",
    "    cur.execute(sql_insert)\n",
    "    conn.commit()"
   ]
  },
  {
   "cell_type": "markdown",
   "metadata": {},
   "source": [
    "## Query the Table"
   ]
  },
  {
   "cell_type": "code",
   "execution_count": 15,
   "metadata": {
    "scrolled": false
   },
   "outputs": [
    {
     "data": {
      "text/plain": [
       "<matplotlib.axes._subplots.AxesSubplot at 0x7fc45eb07978>"
      ]
     },
     "execution_count": 15,
     "metadata": {},
     "output_type": "execute_result"
    },
    {
     "data": {
      "image/png": "[encoded data removed]",
      "text/plain": [
       "<Figure size 432x288 with 1 Axes>"
      ]
     },
     "metadata": {
      "needs_background": "light"
     },
     "output_type": "display_data"
    }
   ],
   "source": [
    "df = pandas.read_sql_query('select count(*) as count,job_title from gp25.indeed group by job_title order by count desc ', conn)\n",
    "df.plot.bar(x='job_title')"
   ]
  },
  {
   "cell_type": "code",
   "execution_count": 16,
   "metadata": {},
   "outputs": [],
   "source": [
    "cur.close()\n",
    "conn.close()"
   ]
  },
  {
   "cell_type": "code",
   "execution_count": null,
   "metadata": {},
   "outputs": [],
   "source": []
  }
 ],
 "metadata": {
  "kernelspec": {
   "display_name": "conda_python3",
   "language": "python",
   "name": "conda_python3"
  },
  "language_info": {
   "codemirror_mode": {
    "name": "ipython",
    "version": 3
   },
   "file_extension": ".py",
   "mimetype": "text/x-python",
   "name": "python",
   "nbconvert_exporter": "python",
   "pygments_lexer": "ipython3",
   "version": "3.6.10"
  }
 },
 "nbformat": 4,
 "nbformat_minor": 2
}
